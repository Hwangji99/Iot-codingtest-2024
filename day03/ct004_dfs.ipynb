{
 "cells": [
  {
   "cell_type": "markdown",
   "metadata": {},
   "source": [
    "### DFS\n",
    "- 결론\n",
    "    - DFS - 스택사용\n",
    "    - BFS - 큐사용\n",
    "    - 재귀호출 포함\n",
    "    - 리스트만 가지고 구현해도 됨(헷갈리고, 오류가 날 수 있음, 코드양이 길어짐)\n",
    "\n",
    "#### DFS 이전에\n",
    "- Stack - **Last-in First-out(LIFO)** 또는 First-in Last-out(FILO)\n",
    "- Queue - First-in First-out(FIFO)"
   ]
  },
  {
   "cell_type": "code",
   "execution_count": 1,
   "metadata": {},
   "outputs": [
    {
     "data": {
      "text/plain": [
       "[5, 2, 3, 7]"
      ]
     },
     "execution_count": 1,
     "metadata": {},
     "output_type": "execute_result"
    }
   ],
   "source": [
    "## 스택\n",
    "stack = [] ## 일반적인 리스트로 구현가능\n",
    "\n",
    "## 5입력, 2입력, 3입력, 7입력, 꺼내기, 1입력, 4입력, 꺼내기, 꺼내기\n",
    "stack.append(5)\n",
    "stack.append(2)\n",
    "stack.append(3)\n",
    "stack.append(7)\n",
    "stack"
   ]
  }
 ],
 "metadata": {
  "kernelspec": {
   "display_name": "Python 3",
   "language": "python",
   "name": "python3"
  },
  "language_info": {
   "codemirror_mode": {
    "name": "ipython",
    "version": 3
   },
   "file_extension": ".py",
   "mimetype": "text/x-python",
   "name": "python",
   "nbconvert_exporter": "python",
   "pygments_lexer": "ipython3",
   "version": "3.11.5"
  }
 },
 "nbformat": 4,
 "nbformat_minor": 2
}
